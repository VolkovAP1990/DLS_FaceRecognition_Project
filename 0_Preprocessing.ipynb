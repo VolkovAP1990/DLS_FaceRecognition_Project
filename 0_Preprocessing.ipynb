{
 "cells": [
  {
   "cell_type": "code",
   "execution_count": 1,
   "id": "ea2a7ec8-a62c-4259-9fc1-0eb6d446c908",
   "metadata": {},
   "outputs": [],
   "source": [
    "import os\n",
    "import shutil\n",
    "import random\n",
    "from collections import defaultdict, Counter"
   ]
  },
  {
   "cell_type": "code",
   "execution_count": 7,
   "id": "ae8743f1-171b-471e-9420-6aa9016f36f9",
   "metadata": {},
   "outputs": [],
   "source": [
    "# === Пути ===\n",
    "wild_src_dir = r\"C:\\ML_DLS\\Final_Project\\dataset\\Wild\\img_celeba\"\n",
    "aligned_src_dir = r\"C:\\ML_DLS\\Final_Project\\dataset\\img_align_celeba\"\n",
    "identity_file = r\"C:\\ML_DLS\\Final_Project\\dataset\\Anno\\identity_CelebA.txt\"\n",
    "\n",
    "output_base = r\"C:\\ML_DLS\\Final_Project\\dataset_500\"\n",
    "\n",
    "# Папки назначения по структуре:\n",
    "aligned_base = os.path.join(output_base, \"Aligned_celeba\")\n",
    "wild_base = os.path.join(output_base, \"Wild\")\n",
    "\n",
    "# Подпапки train/val/test\n",
    "splits = [\"train\", \"val\", \"test\"]\n",
    "for split in splits:\n",
    "    os.makedirs(os.path.join(aligned_base, split), exist_ok=True)\n",
    "    os.makedirs(os.path.join(wild_base, split), exist_ok=True)"
   ]
  },
  {
   "cell_type": "code",
   "execution_count": 9,
   "id": "92622a0f-a3e1-469d-a26a-4dcc023d9a5b",
   "metadata": {},
   "outputs": [
    {
     "name": "stdout",
     "output_type": "stream",
     "text": [
      "✅ Копирование завершено. CSV-файлы сохранены по сплитам.\n"
     ]
    }
   ],
   "source": [
    "import os, shutil, random, csv\n",
    "from collections import defaultdict, Counter\n",
    "\n",
    "# === Чтение идентичностей ===\n",
    "id_map = {}\n",
    "with open(identity_file, \"r\") as f:\n",
    "    for line in f:\n",
    "        img_name, identity = line.strip().split()\n",
    "        id_map[img_name] = int(identity)\n",
    "\n",
    "# === 500 самых частых ID ===\n",
    "id_counter = Counter(id_map.values())\n",
    "top_500_ids = [id_ for id_, _ in id_counter.most_common(500)]\n",
    "\n",
    "# === Отображение: original ID → 0...499\n",
    "id_to_index = {orig_id: idx for idx, orig_id in enumerate(top_500_ids)}\n",
    "\n",
    "# === Группировка изображений по ID\n",
    "images_by_id = defaultdict(list)\n",
    "for img_name, identity in id_map.items():\n",
    "    if identity in top_500_ids:\n",
    "        images_by_id[identity].append(img_name)\n",
    "\n",
    "# === Создаём CSV-файлы по сплитам\n",
    "csv_writers = {}\n",
    "csv_files = {}\n",
    "for split in [\"train\", \"val\", \"test\"]:\n",
    "    csv_path = os.path.join(output_base, f\"{split}.csv\")\n",
    "    f = open(csv_path, \"w\", newline=\"\")\n",
    "    writer = csv.writer(f)\n",
    "    writer.writerow([\"img\", \"id_true\", \"_id\"])  # заголовок\n",
    "    csv_writers[split] = writer\n",
    "    csv_files[split] = f\n",
    "\n",
    "# === Разделение и копирование\n",
    "used_filenames = set()\n",
    "random.seed(42)\n",
    "\n",
    "for identity in top_500_ids:\n",
    "    images = images_by_id[identity]\n",
    "    if len(images) < 30:\n",
    "        continue  # пропускаем слишком редких\n",
    "\n",
    "    random.shuffle(images)\n",
    "    split_map = {\n",
    "        \"train\": images[:25],\n",
    "        \"val\": images[25:28],\n",
    "        \"test\": images[28:30],\n",
    "    }\n",
    "\n",
    "    new_id = id_to_index[identity]\n",
    "\n",
    "    for split, img_list in split_map.items():\n",
    "        writer = csv_writers[split]\n",
    "        for img_name in img_list:\n",
    "            if img_name in used_filenames:\n",
    "                raise ValueError(f\"Дубликат имени файла: {img_name}\")\n",
    "            used_filenames.add(img_name)\n",
    "\n",
    "            # === Копирование изображений\n",
    "            aligned_src = os.path.join(aligned_src_dir, img_name)\n",
    "            aligned_dst = os.path.join(aligned_base, split, img_name)\n",
    "            shutil.copyfile(aligned_src, aligned_dst)\n",
    "\n",
    "            # === Копирование wild версии\n",
    "            wild_src = os.path.join(wild_src_dir, img_name)\n",
    "            wild_dst = os.path.join(wild_base, split, img_name)\n",
    "            shutil.copyfile(wild_src, wild_dst)\n",
    "\n",
    "            # === Запись строки в CSV\n",
    "            writer.writerow([img_name, identity, new_id])\n",
    "\n",
    "# === Закрываем CSV-файлы\n",
    "for f in csv_files.values():\n",
    "    f.close()\n",
    "\n",
    "print(\"✅ Копирование завершено. CSV-файлы сохранены по сплитам.\")\n",
    "\n"
   ]
  },
  {
   "cell_type": "code",
   "execution_count": null,
   "id": "4aaec7f0-5232-41ad-ae91-a7e2a46e2c09",
   "metadata": {},
   "outputs": [],
   "source": []
  },
  {
   "cell_type": "code",
   "execution_count": 1,
   "id": "dff9a249-163f-489d-8a36-e562c8d0bf07",
   "metadata": {},
   "outputs": [],
   "source": [
    "### Модифицируем немного файлы аннотаций\n",
    "\n",
    "file_path = r\".\\dataset\\Anno\\list_landmarks_align_celeba.txt\"\n",
    "\n",
    "# Читаем все строки из файла\n",
    "with open(file_path, 'r', encoding='utf-8') as f:\n",
    "    lines = f.readlines()\n",
    "\n",
    "# Заменяем вторую строку (индекс 1) на нужную строку с переводом строки в конце\n",
    "lines[1] = \"image_id lefteye_x lefteye_y righteye_x righteye_y nose_x nose_y leftmouth_x leftmouth_y rightmouth_x rightmouth_y\\n\"\n",
    "\n",
    "# Записываем обратно в файл\n",
    "with open(file_path, 'w', encoding='utf-8') as f:\n",
    "    f.writelines(lines)\n"
   ]
  },
  {
   "cell_type": "code",
   "execution_count": null,
   "id": "688a47ba-987d-4590-b9f2-0340acd0fa90",
   "metadata": {},
   "outputs": [],
   "source": []
  }
 ],
 "metadata": {
  "kernelspec": {
   "display_name": "Python 3 (ipykernel)",
   "language": "python",
   "name": "python3"
  },
  "language_info": {
   "codemirror_mode": {
    "name": "ipython",
    "version": 3
   },
   "file_extension": ".py",
   "mimetype": "text/x-python",
   "name": "python",
   "nbconvert_exporter": "python",
   "pygments_lexer": "ipython3",
   "version": "3.12.9"
  }
 },
 "nbformat": 4,
 "nbformat_minor": 5
}
