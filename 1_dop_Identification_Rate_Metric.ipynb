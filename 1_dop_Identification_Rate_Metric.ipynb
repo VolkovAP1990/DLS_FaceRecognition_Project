{
 "cells": [
  {
   "cell_type": "markdown",
   "metadata": {
    "id": "c77dm4e-bQyn"
   },
   "source": [
    "## Identification Rate Metric"
   ]
  },
  {
   "cell_type": "markdown",
   "metadata": {
    "id": "VMRcQD7PbVQ-"
   },
   "source": [
    "При обучении модели для распознавания лиц с помощью CE (кросс-энтропии) мы можем считать метрику accuracy как индикатор того, насколько хорошо наша модель работает. Но у accuracy тут есть недостаток: она не сможет померить, насколько хорошо наша модель работает на лицах людей, которых нет в обучающей выборке.  \n",
    "\n",
    "Чтобы это исправить, придумали новую метрику: **identification rate**. Вот как она работает:\n",
    "\n",
    "Создадим два набора изображений лиц: query и distractors. Никакие лица из этих наборов не должны содержаться в обучающем и валидационном датасете.\n",
    "\n",
    "1. посчитаем косинусные расстояния между лицами, соответствующими одним и тем же людям из query части. Например, пусть одному человеку соответствуют три фото в query: 01.jpg, 02.jpg, 03.jpg. Тогда считаем три косинусных расстояния между всеми тремя парами из этих фото.\n",
    "2. посчитаем косинусные расстояния между лицами, соответствующими разным людям из query части.\n",
    "3. посчитаем косинусные расстояния между всеми парами лиц из query и distractors. Т.е. пара — это (лицо из query, лицо из distractors). Всего получится |query|*|distractors| пар.\n",
    "4. Сложим количества пар, полученных на 2 и 3 шагах. Это количество false пар.\n",
    "5. Зафиксируем **FPR** (false positive rate). Пусть, например, будет 0.01. FPR, умноженный на количество false пар из шага 4 — это разрешенное количество false positives, которые мы разрешаем нашей модели. Обозначим это количество через N.\n",
    "6. Отсортируем все значения косинусных расстояний false пар в порядке убывания. N — ое значение расстояния зафиксируем как **пороговое расстояние**.\n",
    "7. Посчитаем количество positive пар с шага 1, которые имеют косинусное расстояние больше, чем пороговое расстояние. Поделим это количество на общее количество positive пар с шага 1. Это будет TPR (true positive rate) — итоговое значение нашей метрики.\n",
    "\n",
    "Такая метрика обычно обозначается как TPR@FPR=0.01. FPR может быть разным. Приразных FPR будет получаться разное TPR.\n",
    "\n",
    "Смысл этой метрики в том, что мы фиксируем вероятность ошибки вида false positive, т.е. когда \"сеть сказала, что это один и тот же человек, но это не так\", считаем порог косинусного расстояния для этого значения ошибки, потом берем все positive пары и смотрим, у скольких из них расстояние меньше этого порога. Т.е. насколько точно наша сеть ищет похожие лица при заданной вероятности ошибки вида false positive."
   ]
  },
  {
   "cell_type": "markdown",
   "metadata": {
    "id": "puAg1BoLMUsl"
   },
   "source": [
    "**Для подсчета метрик, то вам нужно разбить данные на query и distractors самим.**\n",
    "\n",
    "Делается это примерно так:\n",
    "- Выбраете несколько id, которые не использовались при тренировке моделей, и помещаете их в query set;\n",
    "- Выбираете несколько id, которые не использовались при тренировке моделей и не входят в query, и помещаете их в distractors set. Обычно distractors set должен быть сильно больше, чем query set.\n",
    "- Обрабатываете картинки из query и distractors тем же способом, что картинки для обучения сети.\n",
    "\n",
    "\n",
    "Обратите внимание, что если картинок в query и distractors очень много, то полученных пар картинок в пунктах 1-2-3 алгоритма подсчета TPR@FPR будет очень-очень много. Чтобы код подсчета работал быстрее, ограничивайте размеры этих датасетов. Контролируйте, сколько значений расстояний вы считаете.\n",
    "\n",
    "Ниже дан шаблон кода для реализации FPR@TPR метрики и ячейки с тестами. Тесты проверяют, что ваш код в ячейках написан правильно."
   ]
  },
  {
   "cell_type": "markdown",
   "metadata": {
    "id": "Gud62bxyQ9jR"
   },
   "source": [
    "## План заданий"
   ]
  },
  {
   "cell_type": "markdown",
   "metadata": {
    "id": "mpUHjvrfRDWw"
   },
   "source": [
    "* Правильно разбить датасет на query и distractors\n",
    "* Реализовать метрику и пройти все тесты\n",
    "* Подгрузить все модели, обученные на разных лоссах и сравнить их метрики"
   ]
  },
  {
   "cell_type": "markdown",
   "metadata": {
    "id": "vcwpIx3UAw-z"
   },
   "source": [
    "## Шаблон кода для Identificaton rate metric (TPR@FPR)"
   ]
  },
  {
   "cell_type": "code",
   "execution_count": 1,
   "metadata": {
    "id": "b1_DNpTC_lpQ"
   },
   "outputs": [],
   "source": [
    "import numpy as np\n",
    "from itertools import combinations\n",
    "import torch\n",
    "import cv2\n",
    "from torchvision import transforms\n",
    "from PIL import Image\n",
    "\n",
    "def compute_embeddings(model, images_list):\n",
    "  '''\n",
    "  compute embeddings from the trained model for list of images.\n",
    "  params:\n",
    "    model: trained nn model that takes images and outputs embeddings\n",
    "    images_list: list of images paths to compute embeddings for\n",
    "  output:\n",
    "    list: list of model embeddings. Each embedding corresponds to images\n",
    "          names from images_list\n",
    "  '''\n",
    "  transform = transforms.Compose([\n",
    "      transforms.ToTensor(),\n",
    "      transforms.Resize(350),\n",
    "      transforms.Pad((0, 0, 0, 50)),\n",
    "      transforms.CenterCrop(224),\n",
    "      transforms.Normalize((0.485, 0.456, 0.406),\n",
    "                           (0.229, 0.224, 0.225))\n",
    "  ])\n",
    "\n",
    "  model.eval()\n",
    "  device = next(model.parameters()).device\n",
    "  embeddings = []\n",
    "\n",
    "  with torch.no_grad():\n",
    "    for image_path in images_list:\n",
    "      image = Image.open(image_path).convert('RGB')  # PIL image\n",
    "      image = transform(image).unsqueeze(0).to(device)  # shape: (1, 3, H, W)\n",
    "      embedding = model(image)\n",
    "      embeddings.append(embedding.squeeze(0).cpu().numpy())\n",
    "\n",
    "  return embeddings"
   ]
  },
  {
   "cell_type": "code",
   "execution_count": null,
   "metadata": {
    "id": "AD2LXD87_jmR"
   },
   "outputs": [],
   "source": [
    "query_embeddings = compute_embeddings(model, query_img_names)\n",
    "distractors_embeddings = compute_embeddings(model, distractors_img_names)"
   ]
  },
  {
   "cell_type": "code",
   "execution_count": 39,
   "metadata": {
    "id": "ksOfuF_C_fWI"
   },
   "outputs": [],
   "source": [
    "def cosine_sim(emb1, emb2):\n",
    "    emb1 = np.asarray(emb1).flatten()\n",
    "    emb2 = np.asarray(emb2).flatten()\n",
    "    return float(np.dot(emb1, emb2) / (np.linalg.norm(emb1) * np.linalg.norm(emb2)))\n",
    "\n",
    "def compute_cosine_query_pos(query_dict, query_img_names, query_embeddings):\n",
    "  '''\n",
    "  compute cosine similarities between positive pairs from query (stage 1)\n",
    "  params:\n",
    "    query_dict: dict {class: [image_name_1, image_name_2, ...]}. Key: class in\n",
    "                the dataset. Value: images corresponding to that class\n",
    "    query_img_names: list of images names\n",
    "    query_embeddings: list of embeddings corresponding to query_img_names\n",
    "  output:\n",
    "    list of floats: similarities between embeddings corresponding\n",
    "                    to the same people from query list\n",
    "  '''\n",
    "  name_to_emb = {name: emb for name, emb in zip(query_img_names, query_embeddings)}\n",
    "  similarities = []\n",
    "\n",
    "  for class_images in query_dict.values():\n",
    "    if len(class_images) < 2:\n",
    "      continue\n",
    "    for i in range(len(class_images)):\n",
    "      for j in range(i + 1, len(class_images)):\n",
    "        emb1 = name_to_emb[class_images[i]]\n",
    "        emb2 = name_to_emb[class_images[j]]\n",
    "        #cos_sim = np.dot(emb1, emb2) / (np.linalg.norm(emb1) * np.linalg.norm(emb2))\n",
    "        similarities.append(cosine_sim(emb1, emb2))\n",
    "\n",
    "  return similarities\n",
    "\n",
    "def compute_cosine_query_neg(query_dict, query_img_names, query_embeddings):\n",
    "  '''\n",
    "  compute cosine similarities between negative pairs from query (stage 2)\n",
    "  params:\n",
    "    query_dict: dict {class: [image_name_1, image_name_2, ...]}. Key: class in\n",
    "                the dataset. Value: images corresponding to that class\n",
    "    query_img_names: list of images names\n",
    "    query_embeddings: list of embeddings corresponding to query_img_names\n",
    "  output:\n",
    "    list of floats: similarities between embeddings corresponding\n",
    "                    to different people from query list\n",
    "  '''\n",
    "  name_to_emb = {name: emb for name, emb in zip(query_img_names, query_embeddings)}\n",
    "  similarities = []\n",
    "\n",
    "  class_list = list(query_dict.values())\n",
    "  for i in range(len(class_list)):\n",
    "    for j in range(i + 1, len(class_list)):\n",
    "      imgs_i = class_list[i]\n",
    "      imgs_j = class_list[j]\n",
    "      for img_i in imgs_i:\n",
    "        for img_j in imgs_j:\n",
    "          emb1 = name_to_emb[img_i]\n",
    "          emb2 = name_to_emb[img_j]\n",
    "          #cos_sim = np.dot(emb1, emb2) / (np.linalg.norm(emb1) * np.linalg.norm(emb2))\n",
    "          similarities.append(cosine_sim(emb1, emb2))\n",
    "\n",
    "  return similarities\n",
    "\n",
    "def compute_cosine_query_distractors(query_embeddings, distractors_embeddings):\n",
    "    '''\n",
    "    compute cosine similarities between negative pairs from query and distractors\n",
    "    (stage 3)\n",
    "    params:\n",
    "    query_embeddings: list of embeddings corresponding to query_img_names\n",
    "    distractors_embeddings: list of embeddings corresponding to distractors_img_names\n",
    "    output:\n",
    "    list of floats: similarities between pairs of people (q, d), where q is\n",
    "                    embedding corresponding to photo from query, d —\n",
    "                    embedding corresponding to photo from distractors\n",
    "    '''\n",
    "    \n",
    "    similarities = []\n",
    "    for q_emb in query_embeddings:\n",
    "        for d_emb in distractors_embeddings:\n",
    "            #cos_sim = np.dot(q_emb, d_emb) / (np.linalg.norm(q_emb) * np.linalg.norm(d_emb))\n",
    "            similarities.append(cosine_sim(q_emb, d_emb))\n",
    "\n",
    "    return similarities"
   ]
  },
  {
   "cell_type": "raw",
   "metadata": {
    "id": "sL5eieLz_a6T"
   },
   "source": [
    "cosine_query_pos = compute_cosine_query_pos(query_dict, query_img_names,\n",
    "                                            query_embeddings)\n",
    "cosine_query_neg = compute_cosine_query_neg(query_dict, query_img_names,\n",
    "                                            query_embeddings)\n",
    "cosine_query_distractors = compute_cosine_query_distractors(query_embeddings,\n",
    "                                                            distractors_embeddings)\n"
   ]
  },
  {
   "cell_type": "markdown",
   "metadata": {
    "id": "sYSlzv5s_0-F"
   },
   "source": [
    "Ячейка ниже проверяет, что код работает верно:"
   ]
  },
  {
   "cell_type": "code",
   "execution_count": 40,
   "metadata": {
    "id": "OEFojrOY_44r"
   },
   "outputs": [],
   "source": [
    "test_query_dict = {\n",
    "    2876: ['1.jpg', '2.jpg', '3.jpg'],\n",
    "    5674: ['5.jpg'],\n",
    "    864:  ['9.jpg', '10.jpg'],\n",
    "}\n",
    "test_query_img_names = ['1.jpg', '2.jpg', '3.jpg', '5.jpg', '9.jpg', '10.jpg']\n",
    "test_query_embeddings = [\n",
    "                    [1.56, 6.45,  -7.68],\n",
    "                    [-1.1 , 6.11,  -3.0],\n",
    "                    [-0.06,-0.98,-1.29],\n",
    "                    [8.56, 1.45,  1.11],\n",
    "                    [0.7,  1.1,   -7.56],\n",
    "                    [0.05, 0.9,   -2.56],\n",
    "]\n",
    "\n",
    "test_distractors_img_names = ['11.jpg', '12.jpg', '13.jpg', '14.jpg', '15.jpg']\n",
    "\n",
    "test_distractors_embeddings = [\n",
    "                    [0.12, -3.23, -5.55],\n",
    "                    [-1,   -0.01, 1.22],\n",
    "                    [0.06, -0.23, 1.34],\n",
    "                    [-6.6, 1.45,  -1.45],\n",
    "                    [0.89,  1.98, 1.45],\n",
    "]\n",
    "\n",
    "test_cosine_query_pos = compute_cosine_query_pos(test_query_dict, test_query_img_names,\n",
    "                                            test_query_embeddings)\n",
    "test_cosine_query_neg = compute_cosine_query_neg(test_query_dict, test_query_img_names,\n",
    "                                            test_query_embeddings)\n",
    "test_cosine_query_distractors = compute_cosine_query_distractors(test_query_embeddings,\n",
    "                                                            test_distractors_embeddings)"
   ]
  },
  {
   "cell_type": "code",
   "execution_count": 41,
   "metadata": {
    "id": "iQIyWXmE_5tS"
   },
   "outputs": [],
   "source": [
    "true_cosine_query_pos = [0.8678237233650096, 0.21226104378511604,\n",
    "                         -0.18355866977496182, 0.9787437979250561]\n",
    "assert np.allclose(sorted(test_cosine_query_pos), sorted(true_cosine_query_pos)), \\\n",
    "      \"A mistake in compute_cosine_query_pos function\"\n",
    "\n",
    "true_cosine_query_neg = [0.15963231223161822, 0.8507997093616965, 0.9272761484302097,\n",
    "                         -0.0643994061127092, 0.5412660901220571, 0.701307100338029,\n",
    "                         -0.2372575528216902, 0.6941032794522218, 0.549425446066643,\n",
    "                         -0.011982733001947084, -0.0466679194884999]\n",
    "assert np.allclose(sorted(test_cosine_query_neg), sorted(true_cosine_query_neg)), \\\n",
    "      \"A mistake in compute_cosine_query_neg function\"\n",
    "\n",
    "true_cosine_query_distractors = [0.3371426578637511, -0.6866465610863652, -0.8456563512871669,\n",
    "                                 0.14530087113136106, 0.11410510307646118, -0.07265097629002357,\n",
    "                                 -0.24097699660707042,-0.5851992679925766, 0.4295494455718534,\n",
    "                                 0.37604478596058194, 0.9909483738948858, -0.5881093317868022,\n",
    "                                 -0.6829712976642919, 0.07546364489032083, -0.9130970963915521,\n",
    "                                 -0.17463101988684684, -0.5229363015558941, 0.1399896725311533,\n",
    "                                 -0.9258034013399499, 0.5295114163723346, 0.7811585442749943,\n",
    "                                 -0.8208760031249596, -0.9905139680301821, 0.14969764653247228,\n",
    "                                 -0.40749654525418444, 0.648660814944824, -0.7432584300096284,\n",
    "                                 -0.9839696492435877, 0.2498741082804709, -0.2661183373780491]\n",
    "assert np.allclose(sorted(test_cosine_query_distractors), sorted(true_cosine_query_distractors)), \\\n",
    "      \"A mistake in compute_cosine_query_distractors function\""
   ]
  },
  {
   "cell_type": "markdown",
   "metadata": {
    "id": "HgfGS4PzBXog"
   },
   "source": [
    "И, наконец, финальная функция, которая считает IR metric:"
   ]
  },
  {
   "cell_type": "code",
   "execution_count": 42,
   "metadata": {
    "id": "rJJ0ef6t_VLJ"
   },
   "outputs": [],
   "source": [
    "def compute_ir(cosine_query_pos, cosine_query_neg, cosine_query_distractors, fpr=0.1):\n",
    "  '''\n",
    "  compute identification rate using precomputed cosine similarities between pairs\n",
    "  at given fpr\n",
    "  params:\n",
    "    cosine_query_pos: cosine similarities between positive pairs from query\n",
    "    cosine_query_neg: cosine similarities between negative pairs from query\n",
    "    cosine_query_distractors: cosine similarities between negative pairs\n",
    "                              from query and distractors\n",
    "    fpr: false positive rate at which to compute TPR\n",
    "  output:\n",
    "    float: threshold for given fpr\n",
    "    float: TPR at given FPR\n",
    "  '''\n",
    "  # Все отрицательные пары (разные люди)\n",
    "  false_pairs = cosine_query_neg + cosine_query_distractors\n",
    "  false_pairs_sorted = sorted(false_pairs, reverse=True)\n",
    "\n",
    "  # Сколько false positive допускаем при заданном fpr\n",
    "  num_false_total = len(false_pairs)\n",
    "  num_false_allowed = int(fpr * num_false_total)\n",
    "\n",
    "  # Порог по значению cosine similarity\n",
    "  threshold = false_pairs_sorted[num_false_allowed] if num_false_allowed < len(false_pairs_sorted) else false_pairs_sorted[-1]\n",
    "\n",
    "  # Считаем, сколько положительных пар выше порога\n",
    "  true_positive_count = sum(sim > threshold for sim in cosine_query_pos)\n",
    "  total_positive = len(cosine_query_pos)\n",
    "  tpr = true_positive_count / total_positive if total_positive > 0 else 0.0\n",
    "\n",
    "  return threshold, tpr"
   ]
  },
  {
   "cell_type": "markdown",
   "metadata": {
    "id": "iZz8_1vbFtKE"
   },
   "source": [
    "И ячейки для ее проверки:"
   ]
  },
  {
   "cell_type": "code",
   "execution_count": 6,
   "metadata": {
    "id": "DmwpM3FH_VpR"
   },
   "outputs": [],
   "source": [
    "test_thr = []\n",
    "test_tpr = []\n",
    "for fpr in [0.5, 0.3, 0.1]:\n",
    "  x, y = compute_ir(test_cosine_query_pos, test_cosine_query_neg,\n",
    "                    test_cosine_query_distractors, fpr=fpr)\n",
    "  test_thr.append(x)\n",
    "  test_tpr.append(y)"
   ]
  },
  {
   "cell_type": "code",
   "execution_count": 7,
   "metadata": {
    "id": "nVYigU0jFvc9"
   },
   "outputs": [],
   "source": [
    "true_thr = [-0.011982733001947084, 0.3371426578637511, 0.701307100338029]\n",
    "assert np.allclose(np.array(test_thr), np.array(true_thr)), \"A mistake in computing threshold\"\n",
    "\n",
    "true_tpr = [0.75, 0.5, 0.5]\n",
    "assert np.allclose(np.array(test_tpr), np.array(true_tpr)), \"A mistake in computing tpr\""
   ]
  },
  {
   "cell_type": "markdown",
   "metadata": {
    "id": "ksuMMLQOFxJ1"
   },
   "source": [
    "А в ячейке ниже вы можете посчитать TPR@FPR для датасета с лицами. Давайте, например, посчитаем для значений fpr = [0.5, 0.2, 0.1, 0.05]."
   ]
  },
  {
   "cell_type": "code",
   "execution_count": 68,
   "metadata": {
    "id": "QhMhAza2GDL_"
   },
   "outputs": [
    {
     "name": "stdout",
     "output_type": "stream",
     "text": [
      "✅ Готово: Query (20x3) и Distractors (60x2) сформированы из wild изображений.\n"
     ]
    }
   ],
   "source": [
    "import os, shutil, random, csv\n",
    "from collections import defaultdict, Counter\n",
    "\n",
    "# Пути\n",
    "wild_src_dir = r\"C:\\ML_DLS\\Final_Project\\dataset\\Wild\\img_celeba\"\n",
    "identity_file = r\"C:\\ML_DLS\\Final_Project\\dataset\\Anno\\identity_CelebA.txt\"\n",
    "\n",
    "output_base = r\"C:\\ML_DLS\\Final_Project\\eval_dataset\"\n",
    "query_dir = os.path.join(output_base, \"query\")\n",
    "distractor_dir = os.path.join(output_base, \"distractors\")\n",
    "os.makedirs(query_dir, exist_ok=True)\n",
    "os.makedirs(distractor_dir, exist_ok=True)\n",
    "\n",
    "# === Чтение идентичностей ===\n",
    "id_map = {}\n",
    "with open(identity_file, \"r\") as f:\n",
    "    for line in f:\n",
    "        img_name, identity = line.strip().split()\n",
    "        id_map[img_name] = int(identity)\n",
    "\n",
    "# === ID, использовавшиеся при обучении (топ 500)\n",
    "id_counter = Counter(id_map.values())\n",
    "top_500_ids = {id_ for id_, _ in id_counter.most_common(500)}\n",
    "\n",
    "# === Собираем изображения неиспользованных ID\n",
    "images_by_id = defaultdict(list)\n",
    "for img_name, identity in id_map.items():\n",
    "    if identity not in top_500_ids:\n",
    "        images_by_id[identity].append(img_name)\n",
    "\n",
    "# === Оставляем только ID с достаточным числом изображений\n",
    "eligible_ids = [id_ for id_, imgs in images_by_id.items() if len(imgs) >= 3]\n",
    "random.seed(42)\n",
    "random.shuffle(eligible_ids)\n",
    "\n",
    "if len(eligible_ids) < 80:\n",
    "    raise ValueError(\"Недостаточно уникальных идентичностей вне top-500 (нужно ≥80)\")\n",
    "\n",
    "query_ids = eligible_ids[:20]\n",
    "distractor_ids = eligible_ids[20:80]  # 60 ID\n",
    "\n",
    "# === Создание CSV\n",
    "query_csv = os.path.join(output_base, \"query.csv\")\n",
    "distractor_csv = os.path.join(output_base, \"distractors.csv\")\n",
    "with open(query_csv, \"w\", newline=\"\") as f_q, open(distractor_csv, \"w\", newline=\"\") as f_d:\n",
    "    writer_q = csv.writer(f_q)\n",
    "    writer_d = csv.writer(f_d)\n",
    "    writer_q.writerow([\"img\", \"id_true\"])\n",
    "    writer_d.writerow([\"img\", \"id_true\"])\n",
    "\n",
    "    # --- Обработка Query (20 ID по 3 фото)\n",
    "    for identity in query_ids:\n",
    "        images = images_by_id[identity]\n",
    "        random.shuffle(images)\n",
    "        selected = images[:3]\n",
    "        for img_name in selected:\n",
    "            src = os.path.join(wild_src_dir, img_name)\n",
    "            dst = os.path.join(query_dir, img_name)\n",
    "            shutil.copyfile(src, dst)\n",
    "            writer_q.writerow([img_name, identity])\n",
    "\n",
    "    # --- Обработка Distractors (60 ID по 2 фото)\n",
    "    for identity in distractor_ids:\n",
    "        images = images_by_id[identity]\n",
    "        random.shuffle(images)\n",
    "        selected = images[:2]\n",
    "        for img_name in selected:\n",
    "            src = os.path.join(wild_src_dir, img_name)\n",
    "            dst = os.path.join(distractor_dir, img_name)\n",
    "            shutil.copyfile(src, dst)\n",
    "            writer_d.writerow([img_name, identity])\n",
    "\n",
    "print(\"✅ Готово: Query (20x3) и Distractors (60x2) сформированы из wild изображений.\")\n"
   ]
  },
  {
   "cell_type": "code",
   "execution_count": 21,
   "metadata": {},
   "outputs": [],
   "source": [
    "import torch\n",
    "import models\n",
    "import sys\n",
    "import contextlib\n",
    "import torch\n",
    "import torch.nn.functional as F\n",
    "import numpy as np\n",
    "import cv2\n",
    "from skimage.transform import SimilarityTransform, warp\n",
    "import matplotlib.pyplot as plt\n",
    "import pandas as pd\n",
    "from tqdm import tqdm\n",
    "import os\n",
    "import random\n",
    "\n",
    "device = torch.device('cuda' if torch.cuda.is_available() else 'cpu')\n",
    "\n",
    "# Загрузим модель для определения landmarks\n",
    "with open(os.devnull, 'w') as f, contextlib.redirect_stdout(f):\n",
    "    model_FaceAlignment = models.LandmarksNet()\n",
    "    model_FaceAlignment.load_state_dict(torch.load(\"./weights/best_model_FaceAligment.pth\"))\n",
    "    model_FaceAlignment.to(device)\n",
    "    model_FaceAlignment.eval()"
   ]
  },
  {
   "cell_type": "code",
   "execution_count": 22,
   "metadata": {},
   "outputs": [
    {
     "name": "stderr",
     "output_type": "stream",
     "text": [
      "<>:92: SyntaxWarning: invalid escape sequence '\\s'\n",
      "<>:92: SyntaxWarning: invalid escape sequence '\\s'\n",
      "C:\\Users\\VolkovAP\\AppData\\Local\\Temp\\ipykernel_25816\\3778105815.py:92: SyntaxWarning: invalid escape sequence '\\s'\n",
      "  bbox_df = pd.read_csv(bbox_dir, sep='\\s+', header=1)\n"
     ]
    }
   ],
   "source": [
    "def predict_and_align(\n",
    "    image_rgb,\n",
    "    img_name,\n",
    "    model,\n",
    "    bbox_df,\n",
    "    template,\n",
    "    show=True,\n",
    "    device=torch.device(\"cuda\" if torch.cuda.is_available() else \"cpu\"),\n",
    "    image_size=(160, 192)\n",
    "):\n",
    "    \"\"\"\n",
    "    Предсказание landmarks и выравнивание шаблону, используя готовое изображение и имя.\n",
    "\n",
    "    :param image_rgb: np.ndarray (H, W, 3) — исходное RGB изображение\n",
    "    :param img_name: строка — имя изображения (для поиска bbox)\n",
    "    :param model: torch-модель\n",
    "    :param bbox_df: DataFrame с bbox аннотациями\n",
    "    :param show: показывать результат или возвращать\n",
    "    :return: (aligned_image, aligned_landmarks) если show=False\n",
    "    \"\"\"\n",
    "\n",
    "    # === Получаем bbox ===\n",
    "    bbox = bbox_df.set_index(\"image_id\").loc[img_name]\n",
    "    x, y, w, h = int(bbox['x_1']), int(bbox['y_1']), int(bbox['width']), int(bbox['height'])\n",
    "\n",
    "    # === Crop + resize\n",
    "    image_crop = image_rgb[y:y+h, x:x+w]\n",
    "    resized = cv2.resize(image_crop, image_size)  # (160x192)\n",
    "    input_tensor = torch.tensor(resized.astype(np.float32) / 255.).permute(2, 0, 1).unsqueeze(0).to(device)\n",
    "\n",
    "    # === Предсказание heatmaps\n",
    "    model.eval()\n",
    "    with torch.no_grad():\n",
    "        output = model(input_tensor)           # [1, N, 5, 48, 40]\n",
    "        heatmaps_pred = output[:, -1]          # [1, 5, 48, 40]\n",
    "\n",
    "    upsampled = F.interpolate(heatmaps_pred, size=(image_size[1], image_size[0]), mode='bilinear', align_corners=False)\n",
    "    upsampled = upsampled.squeeze(0).cpu().numpy()  # [5, H, W]\n",
    "\n",
    "    # === Извлекаем landmarks\n",
    "    pred_landmarks = []\n",
    "    for i in range(5):\n",
    "        y_hm, x_hm = np.unravel_index(np.argmax(upsampled[i]), upsampled[i].shape)\n",
    "        pred_landmarks.append([x_hm, y_hm])\n",
    "    pred_landmarks = np.array(pred_landmarks, dtype=np.float32)\n",
    "\n",
    "\n",
    "\n",
    "    # === Выравнивание изображения\n",
    "    tform = SimilarityTransform()\n",
    "    if not tform.estimate(pred_landmarks, template):\n",
    "        raise ValueError(\"Не удалось найти similarity transform.\")\n",
    "    aligned = warp(resized, tform.inverse, output_shape=(image_size[1], image_size[0]), preserve_range=True).astype(np.uint8)\n",
    "\n",
    "    # === Преобразование landmarks → в aligned-изображение\n",
    "    aligned_landmarks = tform(pred_landmarks)  # <<<<<< ВАЖНО!\n",
    "\n",
    "    # === Отрисовка\n",
    "    if show:\n",
    "        vis1 = resized.copy()\n",
    "        vis2 = aligned.copy()\n",
    "        for (x_lm, y_lm) in pred_landmarks.astype(int):\n",
    "            cv2.circle(vis1, (x_lm, y_lm), 3, (255, 0, 0), -1)\n",
    "        for (x_lm, y_lm) in aligned_landmarks.astype(int):\n",
    "            cv2.circle(vis2, (x_lm, y_lm), 3, (0, 255, 0), -1)\n",
    "\n",
    "        plt.figure(figsize=(12, 5))\n",
    "        plt.subplot(1, 2, 1)\n",
    "        plt.imshow(vis1)\n",
    "        plt.title(f\"Before Alignment: {img_name}\")\n",
    "        plt.grid()\n",
    "        plt.subplot(1, 2, 2)\n",
    "        plt.imshow(vis2)\n",
    "        plt.title(\"Aligned\")\n",
    "        plt.grid()\n",
    "        plt.show()\n",
    "        return\n",
    "\n",
    "    else:\n",
    "        return aligned, aligned_landmarks\n",
    "\n",
    "# Предварительно загружаем данные\n",
    "bbox_dir=r\".\\dataset_500\\list_bbox_celeba.txt\"\n",
    "img_dir = r\".\\eval_dataset\\query\"\n",
    "img_list = [f for f in os.listdir(img_dir) if f.endswith(\".jpg\")]\n",
    "img_name = random.choice(img_list)\n",
    "\n",
    "img_path = os.path.join(img_dir, img_name)\n",
    "image_bgr = cv2.imread(img_path)\n",
    "image_rgb = cv2.cvtColor(image_bgr, cv2.COLOR_BGR2RGB)\n",
    "\n",
    "bbox_df = pd.read_csv(bbox_dir, sep='\\s+', header=1)\n",
    "\n",
    "# Запускаем\n",
    "#predict_and_align(image_rgb, img_name, model_FaceAlignment, bbox_df, template=models.TEMPLATE, show=True)\n"
   ]
  },
  {
   "cell_type": "code",
   "execution_count": 72,
   "metadata": {},
   "outputs": [
    {
     "name": "stderr",
     "output_type": "stream",
     "text": [
      "<>:7: SyntaxWarning: invalid escape sequence '\\s'\n",
      "<>:7: SyntaxWarning: invalid escape sequence '\\s'\n",
      "C:\\Users\\VolkovAP\\AppData\\Local\\Temp\\ipykernel_25384\\1447286538.py:7: SyntaxWarning: invalid escape sequence '\\s'\n",
      "  bbox_df = pd.read_csv(bbox_path, sep='\\s+', header=1)\n",
      "Обработка изображений: 100%|███████████████████████████████████████████████████████████| 60/60 [00:02<00:00, 21.29it/s]\n"
     ]
    }
   ],
   "source": [
    "# Пути\n",
    "input_dir = r\".\\eval_dataset\\query\"\n",
    "output_dir = r\".\\eval_dataset\\query_aligned\"\n",
    "bbox_path = r\".\\dataset_500\\list_bbox_celeba.txt\"\n",
    "\n",
    "# Загрузка bbox\n",
    "bbox_df = pd.read_csv(bbox_path, sep='\\s+', header=1)\n",
    "\n",
    "# Создаём выходную директорию, если нужно\n",
    "os.makedirs(output_dir, exist_ok=True)\n",
    "\n",
    "# Список изображений\n",
    "img_list = [f for f in os.listdir(input_dir) if f.endswith(\".jpg\")]\n",
    "\n",
    "# Обработка всех изображений\n",
    "for img_name in tqdm(img_list, desc=\"Обработка изображений\"):\n",
    "    img_path = os.path.join(input_dir, img_name)\n",
    "\n",
    "    # Чтение изображения\n",
    "    image_bgr = cv2.imread(img_path)\n",
    "    if image_bgr is None:\n",
    "        print(f\"❌ Пропущено: {img_name} (не удалось загрузить)\")\n",
    "        continue\n",
    "    image_rgb = cv2.cvtColor(image_bgr, cv2.COLOR_BGR2RGB)\n",
    "\n",
    "    try:\n",
    "        # Выравнивание лица без отображения\n",
    "        aligned_face, _ = predict_and_align(\n",
    "            image_rgb=image_rgb,\n",
    "            img_name=img_name,\n",
    "            model=model_FaceAlignment,\n",
    "            bbox_df=bbox_df,\n",
    "            template=models.TEMPLATE,\n",
    "            show=False  # не показываем\n",
    "        )\n",
    "\n",
    "        # Сохраняем как BGR JPG\n",
    "        out_path = os.path.join(output_dir, img_name)\n",
    "        face_bgr = cv2.cvtColor(aligned_face, cv2.COLOR_RGB2BGR)\n",
    "        cv2.imwrite(out_path, face_bgr)\n",
    "\n",
    "    except Exception as e:\n",
    "        print(f\"⚠️ Ошибка на {img_name}: {e}\")"
   ]
  },
  {
   "cell_type": "markdown",
   "metadata": {},
   "source": [
    "# Сделаем  query_dict, query_img_names, distractors_img_names"
   ]
  },
  {
   "cell_type": "code",
   "execution_count": 23,
   "metadata": {},
   "outputs": [],
   "source": [
    "import csv\n",
    "from collections import defaultdict\n",
    "\n",
    "def load_query_and_distractors(csv_query_path, csv_distractor_path):\n",
    "    '''\n",
    "    Построить query_dict, query_img_names и distractors_img_names из CSV файлов\n",
    "\n",
    "    params:\n",
    "      csv_query_path: путь к query.csv\n",
    "      csv_distractor_path: путь к distractors.csv\n",
    "\n",
    "    returns:\n",
    "      query_dict: dict {id_true: [img1, img2, ...]}\n",
    "      query_img_names: list of all image names in query\n",
    "      distractors_img_names: list of all image names in distractors\n",
    "    '''\n",
    "    query_dict = defaultdict(list)\n",
    "    query_img_names = []\n",
    "    distractors_img_names = []\n",
    "\n",
    "    # Обработка query.csv\n",
    "    with open(csv_query_path, 'r') as f_q:\n",
    "        reader = csv.DictReader(f_q)\n",
    "        for row in reader:\n",
    "            img = row['img']\n",
    "            id_true = int(row['id_true'])\n",
    "            query_dict[id_true].append(img)\n",
    "            query_img_names.append(img)\n",
    "\n",
    "    # Обработка distractors.csv\n",
    "    with open(csv_distractor_path, 'r') as f_d:\n",
    "        reader = csv.DictReader(f_d)\n",
    "        for row in reader:\n",
    "            img = row['img']\n",
    "            distractors_img_names.append(img)\n",
    "\n",
    "    return query_dict, query_img_names, distractors_img_names\n",
    "\n",
    "query_dict, query_img_names, distractors_img_names = load_query_and_distractors(\n",
    "    csv_query_path=r'C:\\ML_DLS\\Final_Project\\eval_dataset\\query.csv',\n",
    "    csv_distractor_path=r'C:\\ML_DLS\\Final_Project\\eval_dataset\\distractors.csv'\n",
    ")"
   ]
  },
  {
   "cell_type": "code",
   "execution_count": 24,
   "metadata": {},
   "outputs": [],
   "source": [
    "# Пути к изображениям\n",
    "\n",
    "query_img_paths = [os.path.join(r'C:\\ML_DLS\\Final_Project\\eval_dataset\\query_aligned', name)\n",
    "                   for name in query_img_names]\n",
    "\n",
    "distractor_img_paths = [os.path.join(r'C:\\ML_DLS\\Final_Project\\eval_dataset\\distractors_aligned', name)\n",
    "                        for name in distractors_img_names]"
   ]
  },
  {
   "cell_type": "code",
   "execution_count": 25,
   "metadata": {},
   "outputs": [],
   "source": [
    "query_embeddings = compute_embeddings(model_FaceAlignment, query_img_paths)\n",
    "distractor_embeddings = compute_embeddings(model_FaceAlignment, distractor_img_paths)"
   ]
  },
  {
   "cell_type": "code",
   "execution_count": 43,
   "metadata": {},
   "outputs": [],
   "source": [
    "cosine_query_pos = compute_cosine_query_pos(query_dict, query_img_names,\n",
    "                                            query_embeddings)"
   ]
  },
  {
   "cell_type": "code",
   "execution_count": 46,
   "metadata": {},
   "outputs": [],
   "source": [
    "cosine_query_neg = compute_cosine_query_neg(query_dict, query_img_names,\n",
    "                                            query_embeddings)"
   ]
  },
  {
   "cell_type": "code",
   "execution_count": 47,
   "metadata": {},
   "outputs": [],
   "source": [
    "cosine_query_distractors = compute_cosine_query_distractors(query_embeddings,\n",
    "                                                            distractor_embeddings)"
   ]
  },
  {
   "cell_type": "code",
   "execution_count": 50,
   "metadata": {},
   "outputs": [],
   "source": [
    "test_thr = []\n",
    "test_tpr = []\n",
    "for fpr in [0.5, 0.3, 0.1]:\n",
    "  x, y = compute_ir(cosine_query_pos, cosine_query_neg,\n",
    "                    cosine_query_distractors, fpr=fpr)\n",
    "  test_thr.append(x)\n",
    "  test_tpr.append(y)"
   ]
  },
  {
   "cell_type": "code",
   "execution_count": 51,
   "metadata": {},
   "outputs": [
    {
     "name": "stdout",
     "output_type": "stream",
     "text": [
      "FPR=0.50 → Threshold=0.1953, TPR=0.5667\n",
      "FPR=0.30 → Threshold=0.2773, TPR=0.4167\n",
      "FPR=0.10 → Threshold=0.4095, TPR=0.2667\n"
     ]
    }
   ],
   "source": [
    "for fpr_val, thr, tpr in zip([0.5, 0.3, 0.1], test_thr, test_tpr):\n",
    "    print(f\"FPR={fpr_val:.2f} → Threshold={thr:.4f}, TPR={tpr:.4f}\")"
   ]
  },
  {
   "cell_type": "code",
   "execution_count": 52,
   "metadata": {},
   "outputs": [
    {
     "data": {
      "image/png": "[encoded data removed]",
      "text/plain": [
       "<Figure size 640x480 with 1 Axes>"
      ]
     },
     "metadata": {},
     "output_type": "display_data"
    }
   ],
   "source": [
    "import matplotlib.pyplot as plt\n",
    "\n",
    "fpr_values = [0.5, 0.3, 0.1]\n",
    "\n",
    "plt.plot(fpr_values, test_tpr, marker='o')\n",
    "plt.xlabel(\"FPR\")\n",
    "plt.ylabel(\"TPR\")\n",
    "plt.title(\"TPR@FPR\")\n",
    "plt.gca().invert_xaxis()  # чтобы 0.1 справа, 0.5 слева\n",
    "plt.grid(True)\n",
    "plt.show()"
   ]
  },
  {
   "cell_type": "raw",
   "metadata": {},
   "source": [
    "    При FPR = 0.10 (строгий режим), модель правильно узнаёт только 26.7% одинаковых лиц — это низкий TPR.\n",
    "\n",
    "    При слабом контроле ошибок (FPR = 0.50), TPR растёт до 56.7%, но цена — много ложных совпадений.\n",
    "\n",
    "    Эмбеддинги неустойчивы: даже для одинаковых людей cosine similarity часто ниже безопасного порога.\n",
    "\n",
    "Модель слабо различает \"своих\" и \"чужих\", особенно в условиях низкого FPR.\n",
    "Для надёжного face verification потребуется улучшение качества эмбеддингов или архитектуры."
   ]
  }
 ],
 "metadata": {
  "colab": {
   "collapsed_sections": [
    "vcwpIx3UAw-z"
   ],
   "provenance": [],
   "toc_visible": true
  },
  "kernelspec": {
   "display_name": "Python 3 (ipykernel)",
   "language": "python",
   "name": "python3"
  },
  "language_info": {
   "codemirror_mode": {
    "name": "ipython",
    "version": 3
   },
   "file_extension": ".py",
   "mimetype": "text/x-python",
   "name": "python",
   "nbconvert_exporter": "python",
   "pygments_lexer": "ipython3",
   "version": "3.12.9"
  }
 },
 "nbformat": 4,
 "nbformat_minor": 4
}
